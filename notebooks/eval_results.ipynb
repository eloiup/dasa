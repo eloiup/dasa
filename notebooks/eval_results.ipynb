{
 "cells": [
  {
   "cell_type": "code",
   "execution_count": 7,
   "metadata": {},
   "outputs": [],
   "source": [
    "import pandas as pd\n",
    "import lightgbm as lgb"
   ]
  },
  {
   "cell_type": "code",
   "execution_count": 8,
   "metadata": {},
   "outputs": [],
   "source": [
    "def patients_in_line (df, row, priority=None):\n",
    "            \n",
    "    assessment_end_time = row['assessment_end_time']\n",
    "    \n",
    "    event_day = row['day']\n",
    "\n",
    "    if not priority:\n",
    "        \n",
    "        value = (len(df.loc[(df['assessment_end_time']<assessment_end_time)&(df['consultation_start_time']>assessment_end_time)&(df['day']==event_day)]))\n",
    "        \n",
    "    if priority == 'normal':\n",
    "        \n",
    "        value = (len(df.loc[(df['assessment_end_time']<assessment_end_time)&(df['consultation_start_time']>assessment_end_time)&(df['day']==event_day)&(df['priority_normal']==1)]))\n",
    "        \n",
    "    if priority == 'urgent':\n",
    "        \n",
    "        value = (len(df.loc[(df['assessment_end_time']<assessment_end_time)&(df['consultation_start_time']>assessment_end_time)&(df['day']==event_day)&(df['priority_urgent']==1)]))\n",
    "    \n",
    "    return value"
   ]
  },
  {
   "cell_type": "code",
   "execution_count": 9,
   "metadata": {},
   "outputs": [],
   "source": [
    "def make_data_set (path):\n",
    "\n",
    "    df = pd.read_csv(path, index_col='Unnamed: 0')\n",
    "    \n",
    "    features = ['pain','priority']\n",
    "\n",
    "    for feature in features:\n",
    "\n",
    "        df = pd.concat([df.drop(feature,1), pd.get_dummies(df[feature], prefix=feature)],1)\n",
    "        \n",
    "    df['patient_number_in_day'] = df.groupby('day')['patient'].transform(lambda X: X - min(X) + 1)\n",
    "    \n",
    "    df['patients_in_line'] = df.apply(lambda X: patients_in_line(df, X),1)\n",
    "    df['normal_patients_in_line'] = df.apply(lambda X: patients_in_line(df, X, priority='normal'),1)\n",
    "    df['urgent_patients_in_line'] = df.apply(lambda X: patients_in_line(df, X, priority='urgent'),1)\n",
    "    \n",
    "    df.drop(['consultation_start_time','consultation_end_time','duration','patient','day'],1,inplace=True)\n",
    "    \n",
    "    return df"
   ]
  },
  {
   "cell_type": "code",
   "execution_count": 12,
   "metadata": {},
   "outputs": [],
   "source": [
    "from sklearn.metrics import mean_squared_error\n",
    "\n",
    "def rmse (targets,preds):\n",
    "    \n",
    "    return mean_squared_error(targets,preds)**(1/2)"
   ]
  },
  {
   "cell_type": "code",
   "execution_count": 10,
   "metadata": {},
   "outputs": [],
   "source": [
    "model = lgb.Booster(model_file='model.txt') ## if not running from directory change path"
   ]
  },
  {
   "cell_type": "code",
   "execution_count": 11,
   "metadata": {},
   "outputs": [],
   "source": [
    "file_path = input()\n",
    "\n",
    "# ../data/summary.csv\n",
    "\n",
    "df = make_data_set(file_path)\n",
    "\n",
    "predictions = pd.np.exp(model.predict(df))\n",
    "\n",
    "temp = pd.read_csv(file_path)\n",
    "\n",
    "targets = temp['consultation_end_time'] - temp['assessment_end_time']\n",
    "\n",
    "print (rmse(targets,predictions))"
   ]
  },
  {
   "cell_type": "markdown",
   "metadata": {},
   "source": [
    "run cells, input path to csv summary file in the same format as exercise file. <br>\n",
    "feature engineering should take a few seconds/couple minutes depending on size of dataset and hardware. <br>"
   ]
  }
 ],
 "metadata": {
  "kernelspec": {
   "display_name": "Python 3",
   "language": "python",
   "name": "python3"
  },
  "language_info": {
   "codemirror_mode": {
    "name": "ipython",
    "version": 3
   },
   "file_extension": ".py",
   "mimetype": "text/x-python",
   "name": "python",
   "nbconvert_exporter": "python",
   "pygments_lexer": "ipython3",
   "version": "3.6.5"
  }
 },
 "nbformat": 4,
 "nbformat_minor": 2
}
