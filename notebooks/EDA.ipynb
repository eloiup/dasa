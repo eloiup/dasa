{
 "cells": [
  {
   "cell_type": "markdown",
   "metadata": {},
   "source": [
    "## EDA\n",
    "\n",
    "This notebook is a first look at the data. <br>\n",
    "Its supposed to validate the data, identify any possible issues and provide insights for feature engineering and data pre processingm. <br>"
   ]
  },
  {
   "cell_type": "code",
   "execution_count": 1,
   "metadata": {},
   "outputs": [],
   "source": [
    "from glob import glob\n",
    "\n",
    "import pandas as pd\n",
    "import numpy as np"
   ]
  },
  {
   "cell_type": "markdown",
   "metadata": {},
   "source": [
    "There seems to be two different file types.\n",
    "\n",
    "summary.csv a single file <br>\n",
    "and  <br>\n",
    "day_#.csv, 50 different files <br>\n",
    "\n",
    "lets take a first look on each."
   ]
  },
  {
   "cell_type": "code",
   "execution_count": 2,
   "metadata": {},
   "outputs": [],
   "source": [
    "day_files = glob('../data/day*')"
   ]
  },
  {
   "cell_type": "code",
   "execution_count": 3,
   "metadata": {},
   "outputs": [
    {
     "data": {
      "text/html": [
       "<div>\n",
       "<style scoped>\n",
       "    .dataframe tbody tr th:only-of-type {\n",
       "        vertical-align: middle;\n",
       "    }\n",
       "\n",
       "    .dataframe tbody tr th {\n",
       "        vertical-align: top;\n",
       "    }\n",
       "\n",
       "    .dataframe thead th {\n",
       "        text-align: right;\n",
       "    }\n",
       "</style>\n",
       "<table border=\"1\" class=\"dataframe\">\n",
       "  <thead>\n",
       "    <tr style=\"text-align: right;\">\n",
       "      <th></th>\n",
       "      <th>Unnamed: 0</th>\n",
       "      <th>arrival_time</th>\n",
       "      <th>assessment_end_time</th>\n",
       "      <th>assessment_start_time</th>\n",
       "      <th>consultation_end_time</th>\n",
       "      <th>consultation_start_time</th>\n",
       "      <th>day</th>\n",
       "      <th>duration</th>\n",
       "      <th>pain</th>\n",
       "      <th>patient</th>\n",
       "      <th>priority</th>\n",
       "      <th>temperature</th>\n",
       "    </tr>\n",
       "  </thead>\n",
       "  <tbody>\n",
       "    <tr>\n",
       "      <th>0</th>\n",
       "      <td>0</td>\n",
       "      <td>430</td>\n",
       "      <td>1055</td>\n",
       "      <td>878</td>\n",
       "      <td>1595</td>\n",
       "      <td>1084</td>\n",
       "      <td>1</td>\n",
       "      <td>510</td>\n",
       "      <td>severe pain</td>\n",
       "      <td>3</td>\n",
       "      <td>normal</td>\n",
       "      <td>36.8</td>\n",
       "    </tr>\n",
       "    <tr>\n",
       "      <th>1</th>\n",
       "      <td>1</td>\n",
       "      <td>280</td>\n",
       "      <td>741</td>\n",
       "      <td>308</td>\n",
       "      <td>1620</td>\n",
       "      <td>773</td>\n",
       "      <td>1</td>\n",
       "      <td>847</td>\n",
       "      <td>no pain</td>\n",
       "      <td>1</td>\n",
       "      <td>urgent</td>\n",
       "      <td>36.6</td>\n",
       "    </tr>\n",
       "    <tr>\n",
       "      <th>2</th>\n",
       "      <td>2</td>\n",
       "      <td>288</td>\n",
       "      <td>851</td>\n",
       "      <td>764</td>\n",
       "      <td>1881</td>\n",
       "      <td>905</td>\n",
       "      <td>1</td>\n",
       "      <td>976</td>\n",
       "      <td>severe pain</td>\n",
       "      <td>2</td>\n",
       "      <td>normal</td>\n",
       "      <td>36.7</td>\n",
       "    </tr>\n",
       "  </tbody>\n",
       "</table>\n",
       "</div>"
      ],
      "text/plain": [
       "   Unnamed: 0  arrival_time  assessment_end_time  assessment_start_time  \\\n",
       "0           0           430                 1055                    878   \n",
       "1           1           280                  741                    308   \n",
       "2           2           288                  851                    764   \n",
       "\n",
       "   consultation_end_time  consultation_start_time  day  duration         pain  \\\n",
       "0                   1595                     1084    1       510  severe pain   \n",
       "1                   1620                      773    1       847      no pain   \n",
       "2                   1881                      905    1       976  severe pain   \n",
       "\n",
       "   patient priority  temperature  \n",
       "0        3   normal         36.8  \n",
       "1        1   urgent         36.6  \n",
       "2        2   normal         36.7  "
      ]
     },
     "execution_count": 3,
     "metadata": {},
     "output_type": "execute_result"
    }
   ],
   "source": [
    "summary = pd.read_csv('../data/summary.csv')\n",
    "summary.head(3)"
   ]
  },
  {
   "cell_type": "code",
   "execution_count": 4,
   "metadata": {},
   "outputs": [
    {
     "data": {
      "text/html": [
       "<div>\n",
       "<style scoped>\n",
       "    .dataframe tbody tr th:only-of-type {\n",
       "        vertical-align: middle;\n",
       "    }\n",
       "\n",
       "    .dataframe tbody tr th {\n",
       "        vertical-align: top;\n",
       "    }\n",
       "\n",
       "    .dataframe thead th {\n",
       "        text-align: right;\n",
       "    }\n",
       "</style>\n",
       "<table border=\"1\" class=\"dataframe\">\n",
       "  <thead>\n",
       "    <tr style=\"text-align: right;\">\n",
       "      <th></th>\n",
       "      <th>Unnamed: 0</th>\n",
       "      <th>assessment</th>\n",
       "      <th>day</th>\n",
       "      <th>event</th>\n",
       "      <th>patient</th>\n",
       "      <th>time</th>\n",
       "    </tr>\n",
       "  </thead>\n",
       "  <tbody>\n",
       "    <tr>\n",
       "      <th>0</th>\n",
       "      <td>0</td>\n",
       "      <td>NaN</td>\n",
       "      <td>39</td>\n",
       "      <td>arrived</td>\n",
       "      <td>3253</td>\n",
       "      <td>68</td>\n",
       "    </tr>\n",
       "    <tr>\n",
       "      <th>1</th>\n",
       "      <td>1</td>\n",
       "      <td>NaN</td>\n",
       "      <td>39</td>\n",
       "      <td>assessment initiated</td>\n",
       "      <td>3253</td>\n",
       "      <td>100</td>\n",
       "    </tr>\n",
       "    <tr>\n",
       "      <th>2</th>\n",
       "      <td>2</td>\n",
       "      <td>NaN</td>\n",
       "      <td>39</td>\n",
       "      <td>arrived</td>\n",
       "      <td>3254</td>\n",
       "      <td>150</td>\n",
       "    </tr>\n",
       "    <tr>\n",
       "      <th>3</th>\n",
       "      <td>3</td>\n",
       "      <td>normal|36.8|no pain</td>\n",
       "      <td>39</td>\n",
       "      <td>assessment concluded</td>\n",
       "      <td>3253</td>\n",
       "      <td>226</td>\n",
       "    </tr>\n",
       "    <tr>\n",
       "      <th>4</th>\n",
       "      <td>4</td>\n",
       "      <td>NaN</td>\n",
       "      <td>39</td>\n",
       "      <td>consultation_initiated</td>\n",
       "      <td>3253</td>\n",
       "      <td>261</td>\n",
       "    </tr>\n",
       "    <tr>\n",
       "      <th>5</th>\n",
       "      <td>5</td>\n",
       "      <td>NaN</td>\n",
       "      <td>39</td>\n",
       "      <td>assessment initiated</td>\n",
       "      <td>3254</td>\n",
       "      <td>277</td>\n",
       "    </tr>\n",
       "    <tr>\n",
       "      <th>6</th>\n",
       "      <td>6</td>\n",
       "      <td>NaN</td>\n",
       "      <td>39</td>\n",
       "      <td>arrived</td>\n",
       "      <td>3255</td>\n",
       "      <td>294</td>\n",
       "    </tr>\n",
       "    <tr>\n",
       "      <th>7</th>\n",
       "      <td>7</td>\n",
       "      <td>NaN</td>\n",
       "      <td>39</td>\n",
       "      <td>arrived</td>\n",
       "      <td>3256</td>\n",
       "      <td>316</td>\n",
       "    </tr>\n",
       "    <tr>\n",
       "      <th>8</th>\n",
       "      <td>8</td>\n",
       "      <td>normal|36.599999999999994|no pain</td>\n",
       "      <td>39</td>\n",
       "      <td>assessment concluded</td>\n",
       "      <td>3254</td>\n",
       "      <td>412</td>\n",
       "    </tr>\n",
       "    <tr>\n",
       "      <th>9</th>\n",
       "      <td>9</td>\n",
       "      <td>NaN</td>\n",
       "      <td>39</td>\n",
       "      <td>assessment initiated</td>\n",
       "      <td>3255</td>\n",
       "      <td>434</td>\n",
       "    </tr>\n",
       "  </tbody>\n",
       "</table>\n",
       "</div>"
      ],
      "text/plain": [
       "   Unnamed: 0                         assessment  day                   event  \\\n",
       "0           0                                NaN   39                 arrived   \n",
       "1           1                                NaN   39    assessment initiated   \n",
       "2           2                                NaN   39                 arrived   \n",
       "3           3                normal|36.8|no pain   39    assessment concluded   \n",
       "4           4                                NaN   39  consultation_initiated   \n",
       "5           5                                NaN   39    assessment initiated   \n",
       "6           6                                NaN   39                 arrived   \n",
       "7           7                                NaN   39                 arrived   \n",
       "8           8  normal|36.599999999999994|no pain   39    assessment concluded   \n",
       "9           9                                NaN   39    assessment initiated   \n",
       "\n",
       "   patient  time  \n",
       "0     3253    68  \n",
       "1     3253   100  \n",
       "2     3254   150  \n",
       "3     3253   226  \n",
       "4     3253   261  \n",
       "5     3254   277  \n",
       "6     3255   294  \n",
       "7     3256   316  \n",
       "8     3254   412  \n",
       "9     3255   434  "
      ]
     },
     "execution_count": 4,
     "metadata": {},
     "output_type": "execute_result"
    }
   ],
   "source": [
    "np.random.seed(42)\n",
    "\n",
    "random_day = pd.read_csv('../data/day {}.csv'.format(int(np.random.randint(1,50))))\n",
    "random_day.head(10)"
   ]
  },
  {
   "cell_type": "markdown",
   "metadata": {},
   "source": [
    "Both files have an unnecessary index column (pd.to_csv('...', index=False) was not set). <br>\n",
    "Day files seem to have a day column which makes life easier when concating different files into one large data set. <br>\n",
    "Its unclear at first sight if feature patient at summary has a numerical id that resets at each day, or if its cummulative, one must check. <br>\n",
    "Summary seems to give the overall summary of each pacient visit: the day, arrival time, start time, end time, priority, temperature, duration (in regard to consultation, with rounding applied, while the consultation values are int) <br>\n",
    "The day files seem unnecessary. assessment information, day value, event time is all recorded on summary. <br>\n",
    "It would however make sense to double check for data integrity among both data sets. <br>"
   ]
  },
  {
   "cell_type": "code",
   "execution_count": 5,
   "metadata": {},
   "outputs": [],
   "source": [
    "days = pd.concat([pd.read_csv(file_path, index_col=['Unnamed: 0']) for file_path in day_files],0, ignore_index=True)"
   ]
  },
  {
   "cell_type": "code",
   "execution_count": 6,
   "metadata": {},
   "outputs": [],
   "source": [
    "assert sorted(days['day'].unique()) == sorted(summary['day'].unique())\n",
    "assert sorted(days['patient'].unique()) == sorted(summary['patient'].unique())"
   ]
  },
  {
   "cell_type": "markdown",
   "metadata": {},
   "source": [
    "unique days entries and unique patient entries are equal on both files"
   ]
  },
  {
   "cell_type": "code",
   "execution_count": 7,
   "metadata": {},
   "outputs": [
    {
     "data": {
      "text/html": [
       "<div>\n",
       "<style scoped>\n",
       "    .dataframe tbody tr th:only-of-type {\n",
       "        vertical-align: middle;\n",
       "    }\n",
       "\n",
       "    .dataframe tbody tr th {\n",
       "        vertical-align: top;\n",
       "    }\n",
       "\n",
       "    .dataframe thead th {\n",
       "        text-align: right;\n",
       "    }\n",
       "</style>\n",
       "<table border=\"1\" class=\"dataframe\">\n",
       "  <thead>\n",
       "    <tr style=\"text-align: right;\">\n",
       "      <th></th>\n",
       "      <th>patient</th>\n",
       "      <th>event</th>\n",
       "      <th>time</th>\n",
       "      <th>value</th>\n",
       "    </tr>\n",
       "  </thead>\n",
       "  <tbody>\n",
       "    <tr>\n",
       "      <th>0</th>\n",
       "      <td>1</td>\n",
       "      <td>arrived</td>\n",
       "      <td>280</td>\n",
       "      <td>0</td>\n",
       "    </tr>\n",
       "    <tr>\n",
       "      <th>2</th>\n",
       "      <td>1</td>\n",
       "      <td>assessment initiated</td>\n",
       "      <td>308</td>\n",
       "      <td>1</td>\n",
       "    </tr>\n",
       "    <tr>\n",
       "      <th>4</th>\n",
       "      <td>1</td>\n",
       "      <td>assessment concluded</td>\n",
       "      <td>741</td>\n",
       "      <td>2</td>\n",
       "    </tr>\n",
       "    <tr>\n",
       "      <th>6</th>\n",
       "      <td>1</td>\n",
       "      <td>consultation_initiated</td>\n",
       "      <td>773</td>\n",
       "      <td>3</td>\n",
       "    </tr>\n",
       "    <tr>\n",
       "      <th>21</th>\n",
       "      <td>1</td>\n",
       "      <td>consultation_finished</td>\n",
       "      <td>1620</td>\n",
       "      <td>4</td>\n",
       "    </tr>\n",
       "    <tr>\n",
       "      <th>1</th>\n",
       "      <td>2</td>\n",
       "      <td>arrived</td>\n",
       "      <td>288</td>\n",
       "      <td>0</td>\n",
       "    </tr>\n",
       "    <tr>\n",
       "      <th>5</th>\n",
       "      <td>2</td>\n",
       "      <td>assessment initiated</td>\n",
       "      <td>764</td>\n",
       "      <td>1</td>\n",
       "    </tr>\n",
       "    <tr>\n",
       "      <th>7</th>\n",
       "      <td>2</td>\n",
       "      <td>assessment concluded</td>\n",
       "      <td>851</td>\n",
       "      <td>2</td>\n",
       "    </tr>\n",
       "    <tr>\n",
       "      <th>9</th>\n",
       "      <td>2</td>\n",
       "      <td>consultation_initiated</td>\n",
       "      <td>905</td>\n",
       "      <td>3</td>\n",
       "    </tr>\n",
       "    <tr>\n",
       "      <th>25</th>\n",
       "      <td>2</td>\n",
       "      <td>consultation_finished</td>\n",
       "      <td>1881</td>\n",
       "      <td>4</td>\n",
       "    </tr>\n",
       "  </tbody>\n",
       "</table>\n",
       "</div>"
      ],
      "text/plain": [
       "    patient                   event  time  value\n",
       "0         1                 arrived   280      0\n",
       "2         1    assessment initiated   308      1\n",
       "4         1    assessment concluded   741      2\n",
       "6         1  consultation_initiated   773      3\n",
       "21        1   consultation_finished  1620      4\n",
       "1         2                 arrived   288      0\n",
       "5         2    assessment initiated   764      1\n",
       "7         2    assessment concluded   851      2\n",
       "9         2  consultation_initiated   905      3\n",
       "25        2   consultation_finished  1881      4"
      ]
     },
     "execution_count": 7,
     "metadata": {},
     "output_type": "execute_result"
    }
   ],
   "source": [
    "temp = days[['patient','event','time']].sort_values(['patient','time'])\n",
    "\n",
    "dictionary = {'arrived':0,'assessment initiated':1,'assessment concluded':2,'consultation_initiated':3,'consultation_finished':4}\n",
    "\n",
    "temp['value'] = temp['event'].map(dictionary)\n",
    "\n",
    "temp[:10]"
   ]
  },
  {
   "cell_type": "markdown",
   "metadata": {},
   "source": [
    "notation is not standard. assessment uses spaces // consultation uses underlines. <br>\n",
    "is it possible that patients do not have all 5 steps (arrive // assessment init // assessment conc // consultation init // consultation conc)? <br>\n",
    "is it possible that some entries are missplaced in order (consultation before assessment)?"
   ]
  },
  {
   "cell_type": "code",
   "execution_count": 8,
   "metadata": {},
   "outputs": [
    {
     "name": "stdout",
     "output_type": "stream",
     "text": [
      "0\n",
      "0\n",
      "True\n"
     ]
    }
   ],
   "source": [
    "print (sum(temp.groupby('patient').apply(len)!=5))\n",
    "print (sum(temp.groupby('patient').agg({'event':'nunique'})['event']!=5))\n",
    "\n",
    "temp['value_shift'] = temp.groupby('patient')['value'].shift(-1)\n",
    "\n",
    "print (temp.loc[(temp['value']<temp['value_shift'])|(temp['value_shift'].isnull())].shape == temp.shape)"
   ]
  },
  {
   "cell_type": "markdown",
   "metadata": {},
   "source": [
    "Okay lets recap. <br>\n",
    "Data seems to have integrity! <br>\n",
    "\"summary\" seems to have all data present in \"days\" files. <br>\n",
    "\n",
    "we have not yet checked if the values present on days are equal to those on summary (in regard to timestamps for events/users). <br>\n",
    "we also need to do a statiscal analysis of data for insights/issues."
   ]
  },
  {
   "cell_type": "code",
   "execution_count": 9,
   "metadata": {},
   "outputs": [
    {
     "data": {
      "text/html": [
       "<div>\n",
       "<style scoped>\n",
       "    .dataframe tbody tr th:only-of-type {\n",
       "        vertical-align: middle;\n",
       "    }\n",
       "\n",
       "    .dataframe tbody tr th {\n",
       "        vertical-align: top;\n",
       "    }\n",
       "\n",
       "    .dataframe thead th {\n",
       "        text-align: right;\n",
       "    }\n",
       "</style>\n",
       "<table border=\"1\" class=\"dataframe\">\n",
       "  <thead>\n",
       "    <tr style=\"text-align: right;\">\n",
       "      <th></th>\n",
       "      <th>patient</th>\n",
       "      <th>day</th>\n",
       "      <th>arrival_time</th>\n",
       "      <th>assessment_end_time</th>\n",
       "      <th>assessment_start_time</th>\n",
       "      <th>consultation_end_time</th>\n",
       "      <th>consultation_start_time</th>\n",
       "    </tr>\n",
       "  </thead>\n",
       "  <tbody>\n",
       "    <tr>\n",
       "      <th>0</th>\n",
       "      <td>1</td>\n",
       "      <td>1</td>\n",
       "      <td>280</td>\n",
       "      <td>741</td>\n",
       "      <td>308</td>\n",
       "      <td>1620</td>\n",
       "      <td>773</td>\n",
       "    </tr>\n",
       "    <tr>\n",
       "      <th>1</th>\n",
       "      <td>2</td>\n",
       "      <td>1</td>\n",
       "      <td>288</td>\n",
       "      <td>851</td>\n",
       "      <td>764</td>\n",
       "      <td>1881</td>\n",
       "      <td>905</td>\n",
       "    </tr>\n",
       "    <tr>\n",
       "      <th>2</th>\n",
       "      <td>3</td>\n",
       "      <td>1</td>\n",
       "      <td>430</td>\n",
       "      <td>1055</td>\n",
       "      <td>878</td>\n",
       "      <td>1595</td>\n",
       "      <td>1084</td>\n",
       "    </tr>\n",
       "    <tr>\n",
       "      <th>3</th>\n",
       "      <td>4</td>\n",
       "      <td>1</td>\n",
       "      <td>944</td>\n",
       "      <td>1244</td>\n",
       "      <td>1089</td>\n",
       "      <td>2105</td>\n",
       "      <td>1294</td>\n",
       "    </tr>\n",
       "    <tr>\n",
       "      <th>4</th>\n",
       "      <td>5</td>\n",
       "      <td>1</td>\n",
       "      <td>1139</td>\n",
       "      <td>1351</td>\n",
       "      <td>1267</td>\n",
       "      <td>3322</td>\n",
       "      <td>1378</td>\n",
       "    </tr>\n",
       "  </tbody>\n",
       "</table>\n",
       "</div>"
      ],
      "text/plain": [
       "   patient  day  arrival_time  assessment_end_time  assessment_start_time  \\\n",
       "0        1    1           280                  741                    308   \n",
       "1        2    1           288                  851                    764   \n",
       "2        3    1           430                 1055                    878   \n",
       "3        4    1           944                 1244                   1089   \n",
       "4        5    1          1139                 1351                   1267   \n",
       "\n",
       "   consultation_end_time  consultation_start_time  \n",
       "0                   1620                      773  \n",
       "1                   1881                      905  \n",
       "2                   1595                     1084  \n",
       "3                   2105                     1294  \n",
       "4                   3322                     1378  "
      ]
     },
     "execution_count": 9,
     "metadata": {},
     "output_type": "execute_result"
    }
   ],
   "source": [
    "days_copy = days.copy()\n",
    "days_copy.drop(['assessment'],1,inplace=True)\n",
    "days_copy = days_copy[['patient','day','event','time']]\n",
    "days_copy = pd.pivot_table(days_copy, columns=['event'], values=['time'], index=['patient','day']).reset_index()\n",
    "days_copy.columns = ['patient','day','arrival_time','assessment_end_time','assessment_start_time','consultation_end_time','consultation_start_time']\n",
    "days_copy = days_copy.sort_values(['day','patient','arrival_time'])\n",
    "\n",
    "days_copy[:5]"
   ]
  },
  {
   "cell_type": "code",
   "execution_count": 10,
   "metadata": {},
   "outputs": [
    {
     "data": {
      "text/html": [
       "<div>\n",
       "<style scoped>\n",
       "    .dataframe tbody tr th:only-of-type {\n",
       "        vertical-align: middle;\n",
       "    }\n",
       "\n",
       "    .dataframe tbody tr th {\n",
       "        vertical-align: top;\n",
       "    }\n",
       "\n",
       "    .dataframe thead th {\n",
       "        text-align: right;\n",
       "    }\n",
       "</style>\n",
       "<table border=\"1\" class=\"dataframe\">\n",
       "  <thead>\n",
       "    <tr style=\"text-align: right;\">\n",
       "      <th></th>\n",
       "      <th>patient</th>\n",
       "      <th>day</th>\n",
       "      <th>arrival_time</th>\n",
       "      <th>assessment_end_time</th>\n",
       "      <th>assessment_start_time</th>\n",
       "      <th>consultation_end_time</th>\n",
       "      <th>consultation_start_time</th>\n",
       "    </tr>\n",
       "  </thead>\n",
       "  <tbody>\n",
       "    <tr>\n",
       "      <th>1</th>\n",
       "      <td>1</td>\n",
       "      <td>1</td>\n",
       "      <td>280</td>\n",
       "      <td>741</td>\n",
       "      <td>308</td>\n",
       "      <td>1620</td>\n",
       "      <td>773</td>\n",
       "    </tr>\n",
       "    <tr>\n",
       "      <th>2</th>\n",
       "      <td>2</td>\n",
       "      <td>1</td>\n",
       "      <td>288</td>\n",
       "      <td>851</td>\n",
       "      <td>764</td>\n",
       "      <td>1881</td>\n",
       "      <td>905</td>\n",
       "    </tr>\n",
       "    <tr>\n",
       "      <th>0</th>\n",
       "      <td>3</td>\n",
       "      <td>1</td>\n",
       "      <td>430</td>\n",
       "      <td>1055</td>\n",
       "      <td>878</td>\n",
       "      <td>1595</td>\n",
       "      <td>1084</td>\n",
       "    </tr>\n",
       "    <tr>\n",
       "      <th>3</th>\n",
       "      <td>4</td>\n",
       "      <td>1</td>\n",
       "      <td>944</td>\n",
       "      <td>1244</td>\n",
       "      <td>1089</td>\n",
       "      <td>2105</td>\n",
       "      <td>1294</td>\n",
       "    </tr>\n",
       "    <tr>\n",
       "      <th>11</th>\n",
       "      <td>5</td>\n",
       "      <td>1</td>\n",
       "      <td>1139</td>\n",
       "      <td>1351</td>\n",
       "      <td>1267</td>\n",
       "      <td>3322</td>\n",
       "      <td>1378</td>\n",
       "    </tr>\n",
       "  </tbody>\n",
       "</table>\n",
       "</div>"
      ],
      "text/plain": [
       "    patient  day  arrival_time  assessment_end_time  assessment_start_time  \\\n",
       "1         1    1           280                  741                    308   \n",
       "2         2    1           288                  851                    764   \n",
       "0         3    1           430                 1055                    878   \n",
       "3         4    1           944                 1244                   1089   \n",
       "11        5    1          1139                 1351                   1267   \n",
       "\n",
       "    consultation_end_time  consultation_start_time  \n",
       "1                    1620                      773  \n",
       "2                    1881                      905  \n",
       "0                    1595                     1084  \n",
       "3                    2105                     1294  \n",
       "11                   3322                     1378  "
      ]
     },
     "execution_count": 10,
     "metadata": {},
     "output_type": "execute_result"
    }
   ],
   "source": [
    "summary_copy = summary.copy()\n",
    "summary_copy = summary_copy[['patient','day','arrival_time','assessment_end_time','assessment_start_time','consultation_end_time','consultation_start_time']]\n",
    "summary_copy = summary_copy.sort_values(['day','patient','arrival_time'])\n",
    "\n",
    "summary_copy[:5]"
   ]
  },
  {
   "cell_type": "code",
   "execution_count": 11,
   "metadata": {},
   "outputs": [
    {
     "name": "stdout",
     "output_type": "stream",
     "text": [
      "(4420, 7)\n",
      "(4420, 7)\n"
     ]
    }
   ],
   "source": [
    "print (summary_copy.shape)\n",
    "print (days_copy.shape)"
   ]
  },
  {
   "cell_type": "code",
   "execution_count": 12,
   "metadata": {},
   "outputs": [
    {
     "data": {
      "text/plain": [
       "True"
      ]
     },
     "execution_count": 12,
     "metadata": {},
     "output_type": "execute_result"
    }
   ],
   "source": [
    "(summary_copy.values == days_copy.values).all()"
   ]
  },
  {
   "cell_type": "markdown",
   "metadata": {},
   "source": [
    "Great! the values check out! the information in summary is the same as in the days files. <br>\n",
    "\n",
    "Now lets get on to the graphical analysis! "
   ]
  },
  {
   "cell_type": "code",
   "execution_count": 13,
   "metadata": {},
   "outputs": [],
   "source": [
    "import matplotlib.pyplot as plt\n",
    "import seaborn as sns"
   ]
  },
  {
   "cell_type": "code",
   "execution_count": 14,
   "metadata": {},
   "outputs": [
    {
     "data": {
      "image/png": "[encoded data removed]",
      "text/plain": [
       "<matplotlib.figure.Figure at 0xad58ef0>"
      ]
     },
     "metadata": {},
     "output_type": "display_data"
    }
   ],
   "source": [
    "plt.figure(figsize=(20,10))\n",
    "plt.subplot(221)\n",
    "sns.distplot(summary['temperature'], kde=False)\n",
    "plt.title('temperature distribution')\n",
    "plt.grid()\n",
    "\n",
    "plt.subplot(222)\n",
    "sns.distplot(summary['duration'], kde=False)\n",
    "plt.title('duration distribution')\n",
    "plt.grid()\n",
    "\n",
    "plt.subplot(223)\n",
    "\n",
    "data = summary['pain'].value_counts()\n",
    "X = np.arange(len(data))\n",
    "y = data.values\n",
    "\n",
    "plt.bar(X,y)\n",
    "plt.xticks(X, data.index)\n",
    "plt.title('pain status distribution')\n",
    "\n",
    "plt.subplot(224)\n",
    "\n",
    "data = summary['priority'].value_counts()\n",
    "X = np.arange(len(data))\n",
    "y = data.values\n",
    "\n",
    "plt.bar(X,y)\n",
    "plt.xticks(X, data.index)\n",
    "plt.title('priority status distribution')\n",
    "\n",
    "plt.tight_layout()"
   ]
  },
  {
   "cell_type": "markdown",
   "metadata": {},
   "source": [
    "target distribution is skewed. thats bad for regression models. <br>"
   ]
  },
  {
   "cell_type": "code",
   "execution_count": 15,
   "metadata": {},
   "outputs": [],
   "source": [
    "summary_corr = summary[['duration','arrival_time','assessment_start_time','assessment_end_time','pain','priority','temperature']].copy()\n",
    "summary_corr = pd.concat([summary_corr.drop('priority',1), pd.get_dummies(summary_corr['priority'], prefix='priority')],1)\n",
    "summary_corr = pd.concat([summary_corr.drop('pain',1), pd.get_dummies(summary_corr['pain'], prefix='pain')],1)\n",
    "summary_corr = summary_corr.corr()"
   ]
  },
  {
   "cell_type": "code",
   "execution_count": 16,
   "metadata": {},
   "outputs": [
    {
     "data": {
      "text/plain": [
       "<matplotlib.axes._subplots.AxesSubplot at 0x80823c8>"
      ]
     },
     "execution_count": 16,
     "metadata": {},
     "output_type": "execute_result"
    },
    {
     "data": {
      "image/png": "[encoded data removed]",
      "text/plain": [
       "<matplotlib.figure.Figure at 0xb62aa58>"
      ]
     },
     "metadata": {},
     "output_type": "display_data"
    }
   ],
   "source": [
    "plt.figure(figsize=(7.5,7.5))\n",
    "sns.heatmap(summary_corr, vmin=-1, vmax=1, annot=True, fmt='.2f')"
   ]
  },
  {
   "cell_type": "markdown",
   "metadata": {},
   "source": [
    "as one would expect, the target (duration) is highly related to temperature / pain / priority. <br>"
   ]
  },
  {
   "cell_type": "code",
   "execution_count": 17,
   "metadata": {},
   "outputs": [
    {
     "data": {
      "image/png": "[encoded data removed]",
      "text/plain": [
       "<matplotlib.figure.Figure at 0xb62aef0>"
      ]
     },
     "metadata": {},
     "output_type": "display_data"
    }
   ],
   "source": [
    "plt.figure(figsize=(10,5))\n",
    "sns.distplot(np.log(summary['duration']), kde=False)\n",
    "plt.title('duration distribution')\n",
    "plt.grid()"
   ]
  },
  {
   "cell_type": "markdown",
   "metadata": {},
   "source": [
    "a simple log transform makes the target close to a normal distribution."
   ]
  }
 ],
 "metadata": {
  "kernelspec": {
   "display_name": "Python 3",
   "language": "python",
   "name": "python3"
  },
  "language_info": {
   "codemirror_mode": {
    "name": "ipython",
    "version": 3
   },
   "file_extension": ".py",
   "mimetype": "text/x-python",
   "name": "python",
   "nbconvert_exporter": "python",
   "pygments_lexer": "ipython3",
   "version": "3.6.5"
  }
 },
 "nbformat": 4,
 "nbformat_minor": 2
}
